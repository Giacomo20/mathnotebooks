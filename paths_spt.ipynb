{
 "cells": [
  {
   "cell_type": "markdown",
   "id": "d8894cc9",
   "metadata": {},
   "source": [
    "<p align=\"center\">\n",
    "<a href=\"https://mybinder.org/v2/gh/Giacomo20/mathnotebooks/HEAD\" target=\"_parent\"><img src=\"https://mybinder.org/badge_logo.svg\" alt=\"Open Notebook\"></a>\n",
    "</p>"
   ]
  },
  {
   "cell_type": "markdown",
   "id": "1bca09df",
   "metadata": {},
   "source": [
    "# Networks in Jupyter notebook\n",
    "\n",
    "Networks are commonly widespread in many areas. We will consider a well-known problem in literature, the **Shortest Path Tree** (**SPT**), to dive into some common modules for the manipulation and the representation of complex networks.\n",
    "Let's start with import modules.\n",
    "\n",
    "### Import modules\n",
    "\n",
    "There are different options available. We will experiment some of the most used, that are:\n",
    "- [NetworkX](https://networkx.org/): is a package that allows us to create, manipulate complex structures represented by a graph,\n",
    "- [PyVis](https://pyvis.readthedocs.io/en/latest/): is an interactive tool to visualize and customize graphs. This package comes with some bindings to import structures created with NetworkX.\n",
    "\n",
    "### Install environment\n",
    "The following modules can be installed in a `conda` environment with only one command from the terminal:\n",
    "\n",
    "`conda install pyvis`"
   ]
  },
  {
   "cell_type": "code",
   "execution_count": null,
   "id": "67fc2c3a",
   "metadata": {},
   "outputs": [],
   "source": [
    "from pyvis import network as net\n",
    "import networkx as nx\n",
    "import random"
   ]
  },
  {
   "cell_type": "markdown",
   "id": "f6a5e8bc",
   "metadata": {},
   "source": [
    "### Create the graph\n",
    "For example we can create a *complete* network with networkx and visualize it in our notebook."
   ]
  },
  {
   "cell_type": "code",
   "execution_count": null,
   "id": "205927fa",
   "metadata": {},
   "outputs": [],
   "source": [
    "# Example 1\n",
    "graph = net.Network(notebook = True)\n",
    "nxgraph = nx.complete_graph(5)\n",
    "graph.from_nx(nxgraph)\n",
    "graph.show(\"complete graph.html\")"
   ]
  },
  {
   "cell_type": "markdown",
   "id": "f0914aeb",
   "metadata": {},
   "source": [
    "There are available many generators. We use a random generator, by specifying the nodes and the edges."
   ]
  },
  {
   "cell_type": "code",
   "execution_count": null,
   "id": "e12aa836",
   "metadata": {},
   "outputs": [],
   "source": [
    "# Example 2: randomly generated\n",
    "nxgraph = nx.dense_gnm_random_graph(8, 16)"
   ]
  },
  {
   "cell_type": "code",
   "execution_count": null,
   "id": "bc8b21cf",
   "metadata": {},
   "outputs": [],
   "source": [
    "# step 1: fix nodes position in the view \n",
    "nxpos = nx.random_layout(nxgraph)\n",
    "graph = net.Network(notebook = True)\n",
    "graph.from_nx(nxgraph)\n",
    "for node in graph.nodes:\n",
    "    node['x'], node['y'] = '%.2f' %nxpos[node['id']][0], '%.2f' %nxpos[node['id']][1]"
   ]
  },
  {
   "cell_type": "code",
   "execution_count": null,
   "id": "947ee215",
   "metadata": {},
   "outputs": [],
   "source": [
    "# step 2: generate weights\n",
    "\n",
    "# nx graph\n",
    "for e in nxgraph.edges.data():\n",
    "    e[2]['weight'] = random.random()\n",
    "\n",
    "# graph\n",
    "graph.inherit_edge_colors(False)\n",
    "\n",
    "for edge in graph.edges:\n",
    "    edge['weight'] = nxgraph.get_edge_data(edge['from'], edge['to'])['weight']\n",
    "    edge['title'] = \"%.2f\" %edge['weight']\n",
    "    edge['value'] = edge['weight']"
   ]
  },
  {
   "cell_type": "code",
   "execution_count": null,
   "id": "37d97d37",
   "metadata": {},
   "outputs": [],
   "source": [
    "dir(graph)  # list the attributes\n",
    "graph.nodes # nodes\n",
    "graph.edges # edges\n",
    "graph.edges[:2]"
   ]
  },
  {
   "cell_type": "code",
   "execution_count": null,
   "id": "c8f60503",
   "metadata": {},
   "outputs": [],
   "source": [
    "graph.nodes.sort(key=lambda x:x['id'])"
   ]
  },
  {
   "cell_type": "code",
   "execution_count": null,
   "id": "acbc237a",
   "metadata": {},
   "outputs": [],
   "source": [
    "# initialize colors\n",
    "def graph_initialize_colors(graph):\n",
    "    for g in graph.nodes:\n",
    "        g['color'] = {}\n",
    "    for e in graph.edges:\n",
    "        e['color'] = {}\n",
    "    # graph.nodes[len(graph.nodes) - 1]['color'] = '#ff00ff'\n",
    "    graph.nodes[0]['color'] = '#0000ff'\n",
    "\n",
    "graph_initialize_colors(graph)\n",
    "graph.show(\"graph.html\") # rerun the cell: positions are fixed!"
   ]
  },
  {
   "cell_type": "code",
   "execution_count": null,
   "id": "570da8ac",
   "metadata": {},
   "outputs": [],
   "source": [
    "import numpy as np\n",
    "import time\n",
    "from IPython import display\n",
    "\n",
    "dist = np.ones(len(graph.nodes)) * np.inf \n",
    "dist[0] = 0\n",
    "\n",
    "pred = np.ones(len(graph.nodes), np.int32) * -1\n",
    "pred[0] = 0\n",
    "\n",
    "to_be_explored = [0]\n",
    "\n",
    "def get_edge_data_indir(graph, u, v):\n",
    "    e = ''\n",
    "    for edge in graph.edges:\n",
    "        if (edge['from'] == u) and (edge['to'] == v):\n",
    "            e = edge\n",
    "            break\n",
    "        if (edge['from'] == v) and (edge['to'] == u):\n",
    "            e = edge\n",
    "            break\n",
    "    if e == '':\n",
    "        print(\"ERROR: not found edge (%d, %d)\" %(u, v))\n",
    "    return e\n",
    "\n",
    "graph_initialize_colors(graph)\n",
    "graph.show('graph.html')\n",
    "time.sleep(1)\n",
    "\n",
    "while len(to_be_explored) > 0:\n",
    "    print(\"nodes to be explored = \", to_be_explored)\n",
    "    idx_curr = to_be_explored[0]\n",
    "    to_be_explored.pop(0)\n",
    "    print(\"exploring node %d\" %idx_curr)\n",
    "    for edge in nx.edges(nxgraph, idx_curr):\n",
    "        idx_neigh = edge[1]\n",
    "        if dist[idx_neigh] == np.inf:\n",
    "            to_be_explored.append(idx_neigh)\n",
    "            graph.nodes[idx_neigh]['color'] = '#0000ff'\n",
    "\n",
    "        print(edge, idx_neigh)\n",
    "        if dist[idx_neigh] > dist[idx_curr] + nxgraph.get_edge_data(idx_curr, idx_neigh)['weight']:\n",
    "            get_edge_data_indir(graph, idx_curr, idx_neigh)['color'] = '#0000ff'\n",
    "            if pred[idx_neigh] >=0:\n",
    "                get_edge_data_indir(graph, pred[idx_neigh], idx_neigh)['color'] = {}\n",
    "\n",
    "            pred[idx_neigh] = idx_curr\n",
    "            dist[idx_neigh] = dist[idx_curr] + nxgraph.get_edge_data(idx_curr, idx_neigh)['weight']\n",
    "\n",
    "    display.display(graph.show('graph.html'))\n",
    "    display.clear_output(wait = True)\n",
    "\n",
    "    time.sleep(2)\n"
   ]
  }
 ],
 "metadata": {
  "kernelspec": {
   "display_name": "Python 3 (ipykernel)",
   "language": "python",
   "name": "python3"
  },
  "language_info": {
   "codemirror_mode": {
    "name": "ipython",
    "version": 3
   },
   "file_extension": ".py",
   "mimetype": "text/x-python",
   "name": "python",
   "nbconvert_exporter": "python",
   "pygments_lexer": "ipython3",
   "version": "3.8.10"
  }
 },
 "nbformat": 4,
 "nbformat_minor": 5
}
